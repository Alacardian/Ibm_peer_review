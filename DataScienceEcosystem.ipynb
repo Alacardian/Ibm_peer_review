{
 "cells": [
  {
   "cell_type": "markdown",
   "id": "111e386b-fce0-4c03-a716-12280f027b50",
   "metadata": {},
   "source": [
    "# Data Science and Ecosystem #"
   ]
  },
  {
   "cell_type": "markdown",
   "id": "87a559bf-d1c3-4ccd-998b-104541688143",
   "metadata": {},
   "source": [
    "In this notebook, Data Science Tools and Ecosystem are summarized."
   ]
  },
  {
   "cell_type": "markdown",
   "id": "b0e1883d-48d9-4aaf-8a5d-0ef391678e55",
   "metadata": {},
   "source": [
    "**Objectives:**"
   ]
  },
  {
   "cell_type": "markdown",
   "id": "654eb312-6a66-40c8-81b5-ab0456c098d9",
   "metadata": {},
   "source": [
    "- Listed popular languages for a Data Scientist\n",
    "- Listed some commonly used libraries\n",
    "- Demonstrated some basis arithmetic expressions"
   ]
  },
  {
   "cell_type": "markdown",
   "id": "98b8c6ec-d76a-4237-a125-fff8d778d8c8",
   "metadata": {},
   "source": [
    "Some of the popular languages that Data Scientists use are:"
   ]
  },
  {
   "cell_type": "markdown",
   "id": "14b1bc72-7f15-49c0-9717-efe00f0e4d50",
   "metadata": {},
   "source": [
    "1. Python\n",
    "2. Ruby\n",
    "3. Javascript"
   ]
  },
  {
   "cell_type": "markdown",
   "id": "f181df3b-b9dc-4d1b-ad01-d840b86b33be",
   "metadata": {},
   "source": [
    "Some of the commonly used libraries used by Data Scientists include:"
   ]
  },
  {
   "cell_type": "markdown",
   "id": "41901c97-4eb6-48b3-864c-48cc4aa57c93",
   "metadata": {},
   "source": [
    "1. Pandas\n",
    "2. Numpy\n",
    "3. Matplotlib"
   ]
  },
  {
   "cell_type": "markdown",
   "id": "4762a18c-3c4f-4902-b15e-3c86b4913491",
   "metadata": {},
   "source": [
    "|Data Science Tools|\n",
    "|------------------|\n",
    "|Googlecolab|\n",
    "|Rstudio|\n",
    "|Jupyternotebooks|"
   ]
  },
  {
   "cell_type": "markdown",
   "id": "888e98d5-eeba-4081-b0af-fe045c997256",
   "metadata": {},
   "source": [
    "### Below are a few examples of evaluationg aritmetic expressions in Python. ###"
   ]
  },
  {
   "cell_type": "code",
   "execution_count": 1,
   "id": "a0ec1662-fb3d-4407-ac62-e11538ede25c",
   "metadata": {},
   "outputs": [
    {
     "data": {
      "text/plain": [
       "17"
      ]
     },
     "execution_count": 1,
     "metadata": {},
     "output_type": "execute_result"
    }
   ],
   "source": [
    "#This is a simple arithmetic expression to multipy then add integers\n",
    "(3*4)+5"
   ]
  },
  {
   "cell_type": "code",
   "execution_count": 2,
   "id": "89ac7256-aab6-464c-9fb9-6b7f6117daf7",
   "metadata": {},
   "outputs": [
    {
     "data": {
      "text/plain": [
       "3.3333333333333335"
      ]
     },
     "execution_count": 2,
     "metadata": {},
     "output_type": "execute_result"
    }
   ],
   "source": [
    "#This will convert 200 minutes to hours by dividing by 60\n",
    "200/60"
   ]
  },
  {
   "cell_type": "markdown",
   "id": "40a4211d-d13d-4493-81d8-1a6aa2b5ee8d",
   "metadata": {},
   "source": [
    "## Author ##\n",
    "Chris Oglesby"
   ]
  },
  {
   "cell_type": "code",
   "execution_count": null,
   "id": "632c9b19-9f4b-4327-b0d8-61b48871ae08",
   "metadata": {},
   "outputs": [],
   "source": []
  }
 ],
 "metadata": {
  "kernelspec": {
   "display_name": "Python 3 (ipykernel)",
   "language": "python",
   "name": "python3"
  },
  "language_info": {
   "codemirror_mode": {
    "name": "ipython",
    "version": 3
   },
   "file_extension": ".py",
   "mimetype": "text/x-python",
   "name": "python",
   "nbconvert_exporter": "python",
   "pygments_lexer": "ipython3",
   "version": "3.11.7"
  }
 },
 "nbformat": 4,
 "nbformat_minor": 5
}
